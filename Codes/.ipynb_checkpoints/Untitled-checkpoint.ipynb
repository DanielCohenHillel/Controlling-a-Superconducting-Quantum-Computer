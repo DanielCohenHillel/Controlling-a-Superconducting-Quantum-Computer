{
 "cells": [
  {
   "cell_type": "code",
   "execution_count": 3,
   "metadata": {},
   "outputs": [],
   "source": [
    "# Imports\n",
    "import qutip as qt\n",
    "import numpy as np\n",
    "import matplotlib as mpl\n",
    "import matplotlib.pyplot as plt\n",
    "import qutip.control.pulseoptim as cpo\n",
    "import qutip.logging_utils as logging\n",
    "import scipy.optimize as spopt\n",
    "import scipy as sp"
   ]
  },
  {
   "cell_type": "code",
   "execution_count": 7,
   "metadata": {},
   "outputs": [],
   "source": [
    "# Constants\n",
    "h_bar = 1\n",
    "\n",
    "cavity_levels = 6\n",
    "\n",
    "# Basic operators\n",
    "# Atom(a and a-dagger)\n",
    "a = qt.tensor(qt.destroy(2), qt.qeye(cavity_levels))\n",
    "ad = a.dag()\n",
    "# Cavity(c, c-dagger, and sigmaZ)\n",
    "c = qt.tensor(qt.qeye(2), qt.destroy(cavity_levels))\n",
    "cd = c.dag()\n",
    "\n",
    "# Simulation time and accuracy details\n",
    "num_time_steps = 50  # Number of time states for the simulation\n",
    "total_time = 5  # Total simulation time\n",
    "dt = total_time/num_time_steps  # Time step size\n",
    "times = np.linspace(0.0, total_time, num_time_steps)  # Time space array\n",
    "num_grape_iter = 50\n",
    "# Frequencies\n",
    "w_a = 1  # Atom(qubit) frequency\n",
    "w_c = 1  # Cavity frequency\n",
    "g = 1  # Linear photon number dependent dispersive shifts\n",
    "\n",
    "# Hamiltonians (Linear/Harmonic)\n",
    "H_a = w_a*a*ad  # Atom hamiltonian\n",
    "H_c = w_c*c*cd  # Cavity hamiltonian\n",
    "H_ac = g * (cd * a + c * ad)  # Atom-Cavity interaction hamiltonian\n",
    "H0 = H_a + H_c + H_ac  # Full atom-cavity hamiltonian w/o a derive\n",
    "# Drive hamiltonians\n",
    "# Atom\n",
    "Ha_I = a + ad\n",
    "Ha_Q = 1j*(a-ad)\n",
    "# Cavity\n",
    "Hc_I = c + cd\n",
    "Hc_Q = 1j*(c-cd)\n",
    "# Time dependent(controllable) derive hamiltonian list\n",
    "H_d = [Ha_I, Ha_Q, Hc_I, Hc_Q]"
   ]
  },
  {
   "cell_type": "code",
   "execution_count": 10,
   "metadata": {},
   "outputs": [],
   "source": [
    "def get_drive_fields_grape(atom_operator, cavity_operator, disp_graphs=False):\n",
    "    # Target state\n",
    "    targ = qt.tensor(atom_operator, cavity_operator)\n",
    "\n",
    "    result = qt.control.grape_unitary(targ, H0, H_d, num_grape_iter, times)\n",
    "\n",
    "    # Atom(transmon)\n",
    "    QI_a = result.u[-1, 0, :]\n",
    "    QQ_a = result.u[-1, 1, :]\n",
    "    # Cavity\n",
    "    QI_c = result.u[-1, 2, :]\n",
    "    QQ_c = result.u[-1, 3, :]\n",
    "\n",
    "    # Display drive graphs\n",
    "    if disp_graphs:\n",
    "        fig, (ax1, ax2) = plt.subplots(2, 1)\n",
    "\n",
    "        ax1.set_title(\"Transmon Drive Fields\")\n",
    "        ax1.plot(times, QI_a, 'r')\n",
    "        ax1.plot(times, QQ_a, 'r--')\n",
    "        ax1.legend((\"I\", \"Q\"))\n",
    "        ax1.set_xlabel('Time (sec)')\n",
    "        ax1.set_ylabel('Amplitude')\n",
    "\n",
    "        ax2.set_title(\"Cavity Drive Fields\")\n",
    "        ax2.plot(times, QI_c, 'b')\n",
    "        ax2.plot(times, QQ_c, \"b--\")\n",
    "        ax2.legend((\"I\", \"Q\"))\n",
    "        ax2.set_xlabel('Time (sec)')\n",
    "        ax2.set_ylabel('Amplitude')\n",
    "        plt.show()\n",
    "\n",
    "    return QI_a, QQ_a, QI_c, QQ_c"
   ]
  },
  {
   "cell_type": "code",
   "execution_count": 16,
   "metadata": {},
   "outputs": [
    {
     "data": {
      "image/png": "[encoded data removed]",
      "text/plain": [
       "<Figure size 432x288 with 2 Axes>"
      ]
     },
     "metadata": {
      "needs_background": "light"
     },
     "output_type": "display_data"
    }
   ],
   "source": [
    "QI_a, QQ_a, QI_c, QQ_c = get_drive_fields_grape(qt.sigmax(),\n",
    "                                                qt.qeye(cavity_levels),\n",
    "                                                disp_graphs=True)"
   ]
  },
  {
   "cell_type": "code",
   "execution_count": null,
   "metadata": {},
   "outputs": [],
   "source": []
  },
  {
   "cell_type": "code",
   "execution_count": null,
   "metadata": {},
   "outputs": [],
   "source": []
  },
  {
   "cell_type": "code",
   "execution_count": null,
   "metadata": {},
   "outputs": [],
   "source": []
  },
  {
   "cell_type": "code",
   "execution_count": null,
   "metadata": {},
   "outputs": [],
   "source": []
  },
  {
   "cell_type": "code",
   "execution_count": null,
   "metadata": {},
   "outputs": [],
   "source": []
  }
 ],
 "metadata": {
  "kernelspec": {
   "display_name": "Python 3",
   "language": "python",
   "name": "python3"
  },
  "language_info": {
   "codemirror_mode": {
    "name": "ipython",
    "version": 3
   },
   "file_extension": ".py",
   "mimetype": "text/x-python",
   "name": "python",
   "nbconvert_exporter": "python",
   "pygments_lexer": "ipython3",
   "version": "3.7.4"
  }
 },
 "nbformat": 4,
 "nbformat_minor": 2
}
